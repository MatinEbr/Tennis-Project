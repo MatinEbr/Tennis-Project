{
 "cells": [
  {
   "cell_type": "code",
   "execution_count": 1,
   "metadata": {},
   "outputs": [],
   "source": [
    "import os\n",
    "import pandas as pd\n",
    "from pathlib import Path\n",
    "from collections import defaultdict\n",
    "import numpy as np\n",
    "import matplotlib.pyplot as plt\n",
    "import datetime"
   ]
  },
  {
   "cell_type": "code",
   "execution_count": 2,
   "metadata": {},
   "outputs": [],
   "source": [
    "away_team_score = pd.read_csv('../Output/away_team_score.csv')\n",
    "away_team = pd.read_csv('../Output/away_team.csv')\n",
    "event = pd.read_csv('../Output/event.csv')\n",
    "home_team_score = pd.read_csv('../Output/home_team_score.csv')\n",
    "home_team = pd.read_csv('../Output/home_team.csv')\n",
    "raw_odds_parquet = pd.read_csv('../Output/raw_odds_parquet.csv')\n",
    "raw_point_by_point_parquet = pd.read_csv('../Output/raw_point_by_point_parquet.csv')\n",
    "raw_statistics_parquet = pd.read_csv('../Output/raw_statistics_parquet.csv')\n",
    "raw_tennis_power_parquet = pd.read_csv('../Output/raw_tennis_power_parquet.csv')\n",
    "raw_votes_parquet = pd.read_csv('../Output/raw_votes_parquet.csv')\n",
    "round = pd.read_csv('../Output/round.csv')\n",
    "season = pd.read_csv('../Output/season.csv')\n",
    "time = pd.read_csv('../Output/time.csv')\n",
    "tournament = pd.read_csv('../Output/tournament.csv')\n",
    "venue = pd.read_csv('../Output/venue.csv')"
   ]
  },
  {
   "cell_type": "markdown",
   "metadata": {},
   "source": [
    "9.find the player with the most winning of tournament in one month :"
   ]
  },
  {
   "cell_type": "code",
   "execution_count": 3,
   "metadata": {},
   "outputs": [
    {
     "data": {
      "text/html": [
       "<div>\n",
       "<style scoped>\n",
       "    .dataframe tbody tr th:only-of-type {\n",
       "        vertical-align: middle;\n",
       "    }\n",
       "\n",
       "    .dataframe tbody tr th {\n",
       "        vertical-align: top;\n",
       "    }\n",
       "\n",
       "    .dataframe thead th {\n",
       "        text-align: right;\n",
       "    }\n",
       "</style>\n",
       "<table border=\"1\" class=\"dataframe\">\n",
       "  <thead>\n",
       "    <tr style=\"text-align: right;\">\n",
       "      <th></th>\n",
       "      <th>winner</th>\n",
       "      <th>date</th>\n",
       "      <th>count of win</th>\n",
       "    </tr>\n",
       "  </thead>\n",
       "  <tbody>\n",
       "    <tr>\n",
       "      <th>49</th>\n",
       "      <td>Faria J.</td>\n",
       "      <td>2024-03</td>\n",
       "      <td>3</td>\n",
       "    </tr>\n",
       "    <tr>\n",
       "      <th>56</th>\n",
       "      <td>Gengel M.</td>\n",
       "      <td>2024-02</td>\n",
       "      <td>3</td>\n",
       "    </tr>\n",
       "    <tr>\n",
       "      <th>69</th>\n",
       "      <td>Helgo M.</td>\n",
       "      <td>2024-03</td>\n",
       "      <td>3</td>\n",
       "    </tr>\n",
       "    <tr>\n",
       "      <th>87</th>\n",
       "      <td>Jianu F.</td>\n",
       "      <td>2024-03</td>\n",
       "      <td>3</td>\n",
       "    </tr>\n",
       "    <tr>\n",
       "      <th>139</th>\n",
       "      <td>Nicod J.</td>\n",
       "      <td>2024-03</td>\n",
       "      <td>3</td>\n",
       "    </tr>\n",
       "    <tr>\n",
       "      <th>151</th>\n",
       "      <td>Popko D.</td>\n",
       "      <td>2024-02</td>\n",
       "      <td>3</td>\n",
       "    </tr>\n",
       "  </tbody>\n",
       "</table>\n",
       "</div>"
      ],
      "text/plain": [
       "        winner     date  count of win\n",
       "49    Faria J.  2024-03             3\n",
       "56   Gengel M.  2024-02             3\n",
       "69    Helgo M.  2024-03             3\n",
       "87    Jianu F.  2024-03             3\n",
       "139   Nicod J.  2024-03             3\n",
       "151   Popko D.  2024-02             3"
      ]
     },
     "execution_count": 3,
     "metadata": {},
     "output_type": "execute_result"
    }
   ],
   "source": [
    "merge_home_away = pd.merge(home_team,away_team,on = 'match_id')\n",
    "time_and_round = pd.merge(time,round,on = 'match_id')\n",
    "time_and_round = time_and_round.loc[time_and_round['cup_round_type']==1]\n",
    "time_and_round['current_period_start_timestamp']= pd.to_datetime(time_and_round['current_period_start_timestamp'],unit='s')\n",
    "time_and_round['date'] = time_and_round['current_period_start_timestamp'].dt.to_period('M')\n",
    "home_away_time_and_round = pd.merge(merge_home_away,time_and_round,on = 'match_id')\n",
    "home_away_time_and_round = pd.merge(home_away_time_and_round,event,on='match_id')\n",
    "home_away_time_and_round.loc[home_away_time_and_round['winner_code']==1,'winner'] = home_away_time_and_round['name_x']\n",
    "home_away_time_and_round.loc[home_away_time_and_round['winner_code']==2,'winner'] = home_away_time_and_round['name_y']\n",
    "home_away_time_and_round = home_away_time_and_round[['match_id','winner','current_period_start_timestamp','date','cup_round_type']]\n",
    "home_away_time_and_round = home_away_time_and_round.groupby(['winner','date'])['match_id'].count().reset_index(name='count of win')\n",
    "home_away_time_and_round.loc[home_away_time_and_round['count of win']==home_away_time_and_round['count of win'].max()]"
   ]
  }
 ],
 "metadata": {
  "kernelspec": {
   "display_name": "Python 3",
   "language": "python",
   "name": "python3"
  },
  "language_info": {
   "codemirror_mode": {
    "name": "ipython",
    "version": 3
   },
   "file_extension": ".py",
   "mimetype": "text/x-python",
   "name": "python",
   "nbconvert_exporter": "python",
   "pygments_lexer": "ipython3",
   "version": "3.13.3"
  }
 },
 "nbformat": 4,
 "nbformat_minor": 2
}
