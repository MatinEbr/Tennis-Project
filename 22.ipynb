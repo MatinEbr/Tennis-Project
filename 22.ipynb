{
 "cells": [
  {
   "cell_type": "markdown",
   "id": "917ec3c8",
   "metadata": {},
   "source": [
    "Is there a correlation between whether a tennis match is played at home or away and the probablity of winning?"
   ]
  },
  {
   "cell_type": "code",
   "execution_count": 1,
   "id": "85b220aa",
   "metadata": {},
   "outputs": [],
   "source": [
    "import pandas as pd\n",
    "\n",
    "\n",
    "away_team_score = pd.read_csv('D:\\\\daneshkar\\\\Tennis Schema\\\\output\\\\csv output\\\\away_team_score.csv')\n",
    "away_team = pd.read_csv('D:\\\\daneshkar\\\\Tennis Schema\\\\output\\\\csv output\\\\away_team.csv')\n",
    "event = pd.read_csv('D:\\\\daneshkar\\\\Tennis Schema\\\\output\\\\csv output\\\\event.csv')\n",
    "home_team_score = pd.read_csv('D:\\\\daneshkar\\\\Tennis Schema\\\\output\\\\csv output\\\\home_team_score.csv')\n",
    "home_team = pd.read_csv('D:\\\\daneshkar\\\\Tennis Schema\\\\output\\\\csv output\\\\home_team.csv')\n",
    "raw_odds_parquet = pd.read_csv('D:\\\\daneshkar\\\\Tennis Schema\\\\output\\\\csv output\\\\raw_odds_parquet.csv')\n",
    "raw_point_by_point_parquet = pd.read_csv('D:\\\\daneshkar\\\\Tennis Schema\\\\output\\\\csv output\\\\raw_point_by_point_parquet.csv')\n",
    "raw_statistics_parquet = pd.read_csv('D:\\\\daneshkar\\\\Tennis Schema\\\\output\\\\csv output\\\\raw_statistics_parquet.csv')\n",
    "raw_tennis_power_parquet = pd.read_csv('D:\\\\daneshkar\\\\Tennis Schema\\\\output\\\\csv output\\\\raw_tennis_power_parquet.csv')\n",
    "raw_votes_parquet = pd.read_csv('D:\\\\daneshkar\\\\Tennis Schema\\\\output\\\\csv output\\\\raw_votes_parquet.csv')\n",
    "round = pd.read_csv('D:\\\\daneshkar\\\\Tennis Schema\\\\output\\\\csv output\\\\round.csv')\n",
    "season = pd.read_csv('D:\\\\daneshkar\\\\Tennis Schema\\\\output\\\\csv output\\\\season.csv')\n",
    "time = pd.read_csv('D:\\\\daneshkar\\\\Tennis Schema\\\\output\\\\csv output\\\\time.csv')\n",
    "tournament = pd.read_csv('D:\\\\daneshkar\\\\Tennis Schema\\\\output\\\\csv output\\\\tournament.csv')\n",
    "venue = pd.read_csv('D:\\\\daneshkar\\\\Tennis Schema\\\\output\\\\csv output\\\\venue.csv')\n",
    "\n"
   ]
  },
  {
   "cell_type": "code",
   "execution_count": null,
   "id": "c44074ac",
   "metadata": {},
   "outputs": [],
   "source": [
    "event = event.dropna( subset=['winner_code'])"
   ]
  },
  {
   "cell_type": "code",
   "execution_count": 3,
   "id": "233f46e7",
   "metadata": {},
   "outputs": [],
   "source": [
    "groupby = event.groupby('winner_code')['match_id'].count().reset_index()\n",
    "\n",
    "groupby = groupby.rename( columns= {'match_id' : 'Number of Matches Won'})\n",
    "\n",
    "event_row_count = len(event)\n",
    "\n",
    "groupby['Probability of winning'] = (groupby['Number of Matches Won'] / event_row_count * 100).round(2).astype(str) + ' %'"
   ]
  },
  {
   "cell_type": "code",
   "execution_count": 4,
   "id": "f63450d7",
   "metadata": {},
   "outputs": [
    {
     "data": {
      "text/html": [
       "<div>\n",
       "<style scoped>\n",
       "    .dataframe tbody tr th:only-of-type {\n",
       "        vertical-align: middle;\n",
       "    }\n",
       "\n",
       "    .dataframe tbody tr th {\n",
       "        vertical-align: top;\n",
       "    }\n",
       "\n",
       "    .dataframe thead th {\n",
       "        text-align: right;\n",
       "    }\n",
       "</style>\n",
       "<table border=\"1\" class=\"dataframe\">\n",
       "  <thead>\n",
       "    <tr style=\"text-align: right;\">\n",
       "      <th></th>\n",
       "      <th>winner_code</th>\n",
       "      <th>Number of Matches Won</th>\n",
       "      <th>Probability of winning</th>\n",
       "    </tr>\n",
       "  </thead>\n",
       "  <tbody>\n",
       "    <tr>\n",
       "      <th>0</th>\n",
       "      <td>1.0</td>\n",
       "      <td>8416</td>\n",
       "      <td>51.74 %</td>\n",
       "    </tr>\n",
       "    <tr>\n",
       "      <th>1</th>\n",
       "      <td>2.0</td>\n",
       "      <td>7850</td>\n",
       "      <td>48.26 %</td>\n",
       "    </tr>\n",
       "  </tbody>\n",
       "</table>\n",
       "</div>"
      ],
      "text/plain": [
       "   winner_code  Number of Matches Won Probability of winning\n",
       "0          1.0                   8416                51.74 %\n",
       "1          2.0                   7850                48.26 %"
      ]
     },
     "execution_count": 4,
     "metadata": {},
     "output_type": "execute_result"
    }
   ],
   "source": [
    "groupby"
   ]
  }
 ],
 "metadata": {
  "kernelspec": {
   "display_name": "Python 3",
   "language": "python",
   "name": "python3"
  },
  "language_info": {
   "codemirror_mode": {
    "name": "ipython",
    "version": 3
   },
   "file_extension": ".py",
   "mimetype": "text/x-python",
   "name": "python",
   "nbconvert_exporter": "python",
   "pygments_lexer": "ipython3",
   "version": "3.13.2"
  }
 },
 "nbformat": 4,
 "nbformat_minor": 5
}
