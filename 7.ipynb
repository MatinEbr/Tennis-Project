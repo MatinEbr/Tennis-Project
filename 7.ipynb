{
 "cells": [
  {
   "cell_type": "code",
   "execution_count": 6,
   "id": "0599d352",
   "metadata": {},
   "outputs": [],
   "source": [
    "import pandas as pd\n",
    "\n",
    "\n",
    "away_team_score = pd.read_csv('D:\\\\daneshkar\\\\Tennis Schema\\\\output\\\\csv output\\\\away_team_score.csv')\n",
    "away_team = pd.read_csv('D:\\\\daneshkar\\\\Tennis Schema\\\\output\\\\csv output\\\\away_team.csv')\n",
    "event = pd.read_csv('D:\\\\daneshkar\\\\Tennis Schema\\\\output\\\\csv output\\\\event.csv')\n",
    "home_team_score = pd.read_csv('D:\\\\daneshkar\\\\Tennis Schema\\\\output\\\\csv output\\\\home_team_score.csv')\n",
    "home_team = pd.read_csv('D:\\\\daneshkar\\\\Tennis Schema\\\\output\\\\csv output\\\\home_team.csv')\n",
    "raw_odds_parquet = pd.read_csv('D:\\\\daneshkar\\\\Tennis Schema\\\\output\\\\csv output\\\\raw_odds_parquet.csv')\n",
    "raw_point_by_point_parquet = pd.read_csv('D:\\\\daneshkar\\\\Tennis Schema\\\\output\\\\csv output\\\\raw_point_by_point_parquet.csv')\n",
    "raw_statistics_parquet = pd.read_csv('D:\\\\daneshkar\\\\Tennis Schema\\\\output\\\\csv output\\\\raw_statistics_parquet.csv')\n",
    "raw_tennis_power_parquet = pd.read_csv('D:\\\\daneshkar\\\\Tennis Schema\\\\output\\\\csv output\\\\raw_tennis_power_parquet.csv')\n",
    "raw_votes_parquet = pd.read_csv('D:\\\\daneshkar\\\\Tennis Schema\\\\output\\\\csv output\\\\raw_votes_parquet.csv')\n",
    "round = pd.read_csv('D:\\\\daneshkar\\\\Tennis Schema\\\\output\\\\csv output\\\\round.csv')\n",
    "season = pd.read_csv('D:\\\\daneshkar\\\\Tennis Schema\\\\output\\\\csv output\\\\season.csv')\n",
    "time = pd.read_csv('D:\\\\daneshkar\\\\Tennis Schema\\\\output\\\\csv output\\\\time.csv')\n",
    "tournament = pd.read_csv('D:\\\\daneshkar\\\\Tennis Schema\\\\output\\\\csv output\\\\tournament.csv')\n",
    "venue = pd.read_csv('D:\\\\daneshkar\\\\Tennis Schema\\\\output\\\\csv output\\\\venue.csv')\n",
    "\n"
   ]
  },
  {
   "cell_type": "code",
   "execution_count": 10,
   "id": "b4d77f84",
   "metadata": {},
   "outputs": [
    {
     "name": "stderr",
     "output_type": "stream",
     "text": [
      "C:\\Users\\ASUS\\AppData\\Local\\Temp\\ipykernel_9912\\3045537126.py:8: SettingWithCopyWarning: \n",
      "A value is trying to be set on a copy of a slice from a DataFrame.\n",
      "Try using .loc[row_indexer,col_indexer] = value instead\n",
      "\n",
      "See the caveats in the documentation: https://pandas.pydata.org/pandas-docs/stable/user_guide/indexing.html#returning-a-view-versus-a-copy\n",
      "  raw_statistics_parquet_aces['home_away_stat_sum'] =raw_statistics_parquet_aces['home_stat'].astype(int) + raw_statistics_parquet_aces['away_stat'].astype(int)\n"
     ]
    },
    {
     "data": {
      "text/html": [
       "<div>\n",
       "<style scoped>\n",
       "    .dataframe tbody tr th:only-of-type {\n",
       "        vertical-align: middle;\n",
       "    }\n",
       "\n",
       "    .dataframe tbody tr th {\n",
       "        vertical-align: top;\n",
       "    }\n",
       "\n",
       "    .dataframe thead th {\n",
       "        text-align: right;\n",
       "    }\n",
       "</style>\n",
       "<table border=\"1\" class=\"dataframe\">\n",
       "  <thead>\n",
       "    <tr style=\"text-align: right;\">\n",
       "      <th></th>\n",
       "      <th>match_id</th>\n",
       "      <th>statistic_name</th>\n",
       "      <th>home_stat</th>\n",
       "      <th>away_stat</th>\n",
       "      <th>period</th>\n",
       "      <th>home_away_stat_sum</th>\n",
       "    </tr>\n",
       "  </thead>\n",
       "  <tbody>\n",
       "    <tr>\n",
       "      <th>0</th>\n",
       "      <td>11998445</td>\n",
       "      <td>aces</td>\n",
       "      <td>12</td>\n",
       "      <td>6</td>\n",
       "      <td>ALL</td>\n",
       "      <td>18</td>\n",
       "    </tr>\n",
       "    <tr>\n",
       "      <th>71</th>\n",
       "      <td>11998446</td>\n",
       "      <td>aces</td>\n",
       "      <td>6</td>\n",
       "      <td>3</td>\n",
       "      <td>ALL</td>\n",
       "      <td>9</td>\n",
       "    </tr>\n",
       "    <tr>\n",
       "      <th>125</th>\n",
       "      <td>11998447</td>\n",
       "      <td>aces</td>\n",
       "      <td>8</td>\n",
       "      <td>4</td>\n",
       "      <td>ALL</td>\n",
       "      <td>12</td>\n",
       "    </tr>\n",
       "    <tr>\n",
       "      <th>178</th>\n",
       "      <td>11998448</td>\n",
       "      <td>aces</td>\n",
       "      <td>4</td>\n",
       "      <td>0</td>\n",
       "      <td>ALL</td>\n",
       "      <td>4</td>\n",
       "    </tr>\n",
       "    <tr>\n",
       "      <th>232</th>\n",
       "      <td>11998449</td>\n",
       "      <td>aces</td>\n",
       "      <td>6</td>\n",
       "      <td>4</td>\n",
       "      <td>ALL</td>\n",
       "      <td>10</td>\n",
       "    </tr>\n",
       "  </tbody>\n",
       "</table>\n",
       "</div>"
      ],
      "text/plain": [
       "     match_id statistic_name home_stat away_stat period  home_away_stat_sum\n",
       "0    11998445           aces        12         6    ALL                  18\n",
       "71   11998446           aces         6         3    ALL                   9\n",
       "125  11998447           aces         8         4    ALL                  12\n",
       "178  11998448           aces         4         0    ALL                   4\n",
       "232  11998449           aces         6         4    ALL                  10"
      ]
     },
     "execution_count": 10,
     "metadata": {},
     "output_type": "execute_result"
    }
   ],
   "source": [
    "raw_statistics_parquet = raw_statistics_parquet.dropna()\n",
    "\n",
    "raw_statistics_parquet = raw_statistics_parquet[['match_id' , 'statistic_name' , 'home_stat' , 'away_stat' ,'period']]\n",
    "\n",
    "raw_statistics_parquet_aces = raw_statistics_parquet[(raw_statistics_parquet['statistic_name'] == 'aces') & (raw_statistics_parquet['period'] == \"ALL\")]\n",
    "\n",
    "\n",
    "raw_statistics_parquet_aces['home_away_stat_sum'] =raw_statistics_parquet_aces['home_stat'].astype(int) + raw_statistics_parquet_aces['away_stat'].astype(int)\n",
    "\n",
    "raw_statistics_parquet_aces.head()"
   ]
  },
  {
   "cell_type": "code",
   "execution_count": 11,
   "id": "3f07797d",
   "metadata": {},
   "outputs": [
    {
     "name": "stdout",
     "output_type": "stream",
     "text": [
      "the avverage of aces per match is: 5.5 \n"
     ]
    }
   ],
   "source": [
    "mean = raw_statistics_parquet_aces['home_away_stat_sum'].mean()\n",
    "\n",
    "print(f'the avverage of aces per match is: {mean:.1f} ')"
   ]
  }
 ],
 "metadata": {
  "kernelspec": {
   "display_name": "Python 3",
   "language": "python",
   "name": "python3"
  },
  "language_info": {
   "codemirror_mode": {
    "name": "ipython",
    "version": 3
   },
   "file_extension": ".py",
   "mimetype": "text/x-python",
   "name": "python",
   "nbconvert_exporter": "python",
   "pygments_lexer": "ipython3",
   "version": "3.13.2"
  }
 },
 "nbformat": 4,
 "nbformat_minor": 5
}
