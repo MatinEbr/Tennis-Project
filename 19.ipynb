{
 "cells": [
  {
   "cell_type": "code",
   "execution_count": 1,
   "metadata": {},
   "outputs": [],
   "source": [
    "import os\n",
    "import pandas as pd\n",
    "from pathlib import Path\n",
    "from collections import defaultdict\n",
    "import numpy as np\n",
    "import matplotlib.pyplot as plt\n",
    "import datetime"
   ]
  },
  {
   "cell_type": "code",
   "execution_count": 2,
   "metadata": {},
   "outputs": [],
   "source": [
    "away_team_score = pd.read_csv('../Output/away_team_score.csv')\n",
    "away_team = pd.read_csv('../Output/away_team.csv')\n",
    "event = pd.read_csv('../Output/event.csv')\n",
    "home_team_score = pd.read_csv('../Output/home_team_score.csv')\n",
    "home_team = pd.read_csv('../Output/home_team.csv')\n",
    "raw_odds_parquet = pd.read_csv('../Output/raw_odds_parquet.csv')\n",
    "raw_point_by_point_parquet = pd.read_csv('../Output/raw_point_by_point_parquet.csv')\n",
    "raw_statistics_parquet = pd.read_csv('../Output/raw_statistics_parquet.csv')\n",
    "raw_tennis_power_parquet = pd.read_csv('../Output/raw_tennis_power_parquet.csv')\n",
    "raw_votes_parquet = pd.read_csv('../Output/raw_votes_parquet.csv')\n",
    "round = pd.read_csv('../Output/round.csv')\n",
    "season = pd.read_csv('../Output/season.csv')\n",
    "time = pd.read_csv('../Output/time.csv')\n",
    "tournament = pd.read_csv('../Output/tournament.csv')\n",
    "venue = pd.read_csv('../Output/venue.csv')"
   ]
  },
  {
   "cell_type": "markdown",
   "metadata": {},
   "source": [
    "how double faults changed from first set to last set:"
   ]
  },
  {
   "cell_type": "code",
   "execution_count": 3,
   "metadata": {},
   "outputs": [
    {
     "data": {
      "text/html": [
       "<div>\n",
       "<style scoped>\n",
       "    .dataframe tbody tr th:only-of-type {\n",
       "        vertical-align: middle;\n",
       "    }\n",
       "\n",
       "    .dataframe tbody tr th {\n",
       "        vertical-align: top;\n",
       "    }\n",
       "\n",
       "    .dataframe thead th {\n",
       "        text-align: right;\n",
       "    }\n",
       "</style>\n",
       "<table border=\"1\" class=\"dataframe\">\n",
       "  <thead>\n",
       "    <tr style=\"text-align: right;\">\n",
       "      <th></th>\n",
       "      <th>period</th>\n",
       "      <th>percent_of_double_faults</th>\n",
       "    </tr>\n",
       "  </thead>\n",
       "  <tbody>\n",
       "    <tr>\n",
       "      <th>0</th>\n",
       "      <td>1ST</td>\n",
       "      <td>46.106</td>\n",
       "    </tr>\n",
       "    <tr>\n",
       "      <th>1</th>\n",
       "      <td>2ND</td>\n",
       "      <td>42.236</td>\n",
       "    </tr>\n",
       "    <tr>\n",
       "      <th>2</th>\n",
       "      <td>3RD</td>\n",
       "      <td>10.935</td>\n",
       "    </tr>\n",
       "  </tbody>\n",
       "</table>\n",
       "</div>"
      ],
      "text/plain": [
       "  period  percent_of_double_faults\n",
       "0    1ST                    46.106\n",
       "1    2ND                    42.236\n",
       "2    3RD                    10.935"
      ]
     },
     "execution_count": 3,
     "metadata": {},
     "output_type": "execute_result"
    }
   ],
   "source": [
    "double_faults = raw_statistics_parquet.loc[(raw_statistics_parquet['statistic_name']=='double_faults')].copy()\n",
    "double_faults['sum_double_faults'] = double_faults['home_stat'].astype(int)+double_faults['away_stat'].astype(int)\n",
    "double_faults_1 = double_faults.groupby('period')['sum_double_faults'].sum().reset_index()\n",
    "double_faults_1['sum_double_faults'] = double_faults_1['sum_double_faults']/double_faults.loc[double_faults['period']=='ALL','sum_double_faults'].sum()\n",
    "double_faults_1.drop(index=3,inplace=True)\n",
    "double_faults_1['sum_double_faults'] = (double_faults_1['sum_double_faults']*100).round(3)\n",
    "double_faults_1.rename(columns={'sum_double_faults':'percent_of_double_faults'})"
   ]
  },
  {
   "cell_type": "markdown",
   "metadata": {},
   "source": [
    "This shows that nearly 46% of double_faults occur in the first set, 42% in the second set, and only 11% in the third set. Although players become tired as the game gets longer and the likelihood of making more mistakes increases, it seems that this sensitivity of the game, which increases in the final sets, has a greater impact on the number of mistakes."
   ]
  }
 ],
 "metadata": {
  "kernelspec": {
   "display_name": "Python 3",
   "language": "python",
   "name": "python3"
  },
  "language_info": {
   "codemirror_mode": {
    "name": "ipython",
    "version": 3
   },
   "file_extension": ".py",
   "mimetype": "text/x-python",
   "name": "python",
   "nbconvert_exporter": "python",
   "pygments_lexer": "ipython3",
   "version": "3.13.3"
  }
 },
 "nbformat": 4,
 "nbformat_minor": 2
}
