{
 "cells": [
  {
   "cell_type": "code",
   "execution_count": 1,
   "metadata": {},
   "outputs": [],
   "source": [
    "import os\n",
    "import pandas as pd\n",
    "from pathlib import Path\n",
    "from collections import defaultdict\n",
    "import numpy as np\n",
    "import matplotlib.pyplot as plt\n",
    "import datetime"
   ]
  },
  {
   "cell_type": "markdown",
   "metadata": {},
   "source": [
    "converting  parquet files to csv files :"
   ]
  },
  {
   "cell_type": "code",
   "execution_count": null,
   "metadata": {},
   "outputs": [],
   "source": [
    "base_path = Path(\"../Input/Tennis Schema/data\")\n",
    "\n",
    "\n",
    "folders_to_read = [ \"raw_odds_parquet\",\n",
    "                    \"raw_point_by_point_parquet\",\"raw_statistics_parquet\", \n",
    "                    \"raw_tennis_power_parquet\", \"raw_votes_parquet\"]  \n",
    "\n",
    "final_data = {}\n",
    "\n",
    "for folder_name in folders_to_read:\n",
    "    all_parquet_files = list(base_path.glob(f\"*/{folder_name}/*.parquet\"))\n",
    "    \n",
    "    dfs = []\n",
    "    for pq_file in all_parquet_files:\n",
    "        df = pd.read_parquet(pq_file,engine='fastparquet')\n",
    "        dfs.append(df)\n",
    "\n",
    "    \n",
    "    combined_df = pd.concat(dfs, ignore_index=True)\n",
    "    final_data[folder_name] = combined_df\n",
    "\n",
    "match_folder = Path(\"../Input/Tennis Schema/data\")\n",
    "\n",
    "all_files = list(match_folder.glob(\"*/raw_match_parquet/*.parquet\"))\n",
    "\n",
    "grouped_files = defaultdict(list)\n",
    "\n",
    "for f in all_files:\n",
    "    parts = f.stem.split(\"_\")\n",
    "    base_parts = []\n",
    "    for p in parts:\n",
    "        if p.isdigit():\n",
    "            break\n",
    "        base_parts.append(p)\n",
    "    base_name = \"_\".join(base_parts)\n",
    "    grouped_files[base_name].append(f)\n",
    "\n",
    "match_dfs = {\n",
    "    group: pd.concat([pd.read_parquet(f, engine='fastparquet') for f in files], ignore_index=True)\n",
    "    for group, files in grouped_files.items()\n",
    "}\n",
    "\n",
    "for name, df in match_dfs.items():\n",
    "    df.to_csv(f\"{name}.csv\", index=False)"
   ]
  }
 ],
 "metadata": {
  "kernelspec": {
   "display_name": "Python 3",
   "language": "python",
   "name": "python3"
  },
  "language_info": {
   "codemirror_mode": {
    "name": "ipython",
    "version": 3
   },
   "file_extension": ".py",
   "mimetype": "text/x-python",
   "name": "python",
   "nbconvert_exporter": "python",
   "pygments_lexer": "ipython3",
   "version": "3.13.3"
  }
 },
 "nbformat": 4,
 "nbformat_minor": 2
}
