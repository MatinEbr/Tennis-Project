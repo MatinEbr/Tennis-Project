{
 "cells": [
  {
   "cell_type": "code",
   "execution_count": 1,
   "metadata": {},
   "outputs": [],
   "source": [
    "# Which tournament has hosted the most matches?"
   ]
  },
  {
   "cell_type": "code",
   "execution_count": 2,
   "metadata": {},
   "outputs": [],
   "source": [
    "import pandas as pd\n",
    "tournament = pd.read_csv('/Users/parisazakeri/Desktop/pz/tournament.csv', encoding='ISO-8859-1')\n",
    "tournament_counts = tournament['tournament_name'].value_counts().head(10)"
   ]
  },
  {
   "cell_type": "code",
   "execution_count": 3,
   "metadata": {},
   "outputs": [
    {
     "name": "stdout",
     "output_type": "stream",
     "text": [
      "Top 10 tournaments by number of matches:\n",
      "tournament_name\n",
      "Indian Wells, USA                       195\n",
      "Miami, USA                              192\n",
      "Davis Cup Single Matches, Group I-IV    110\n",
      "Dubai, UAE                               89\n",
      "Doha, Qatar                              85\n",
      "Indian Wells, USA, Qualifying            74\n",
      "Miami, USA, Qualifying                   73\n",
      "San Luis Potosi, Mexico                  62\n",
      "Santiago, Chile                          60\n",
      "Davis Cup Single Matches                 60\n",
      "Name: count, dtype: int64\n"
     ]
    }
   ],
   "source": [
    "print(\"Top 10 tournaments by number of matches:\")\n",
    "print(tournament_counts.head(10))\n"
   ]
  },
  {
   "cell_type": "code",
   "execution_count": 4,
   "metadata": {},
   "outputs": [
    {
     "name": "stdout",
     "output_type": "stream",
     "text": [
      " The tournament with the most matches is 'Indian Wells, USA' with 195 matches.\n"
     ]
    }
   ],
   "source": [
    "top_tournament = tournament_counts.idxmax()\n",
    "top_count = tournament_counts.max()\n",
    "print(f\" The tournament with the most matches is '{top_tournament}' with {top_count} matches.\")"
   ]
  }
 ],
 "metadata": {
  "kernelspec": {
   "display_name": "Python 3",
   "language": "python",
   "name": "python3"
  },
  "language_info": {
   "codemirror_mode": {
    "name": "ipython",
    "version": 3
   },
   "file_extension": ".py",
   "mimetype": "text/x-python",
   "name": "python",
   "nbconvert_exporter": "python",
   "pygments_lexer": "ipython3",
   "version": "3.9.6"
  }
 },
 "nbformat": 4,
 "nbformat_minor": 2
}
