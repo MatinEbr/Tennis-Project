{
 "cells": [
  {
   "cell_type": "code",
   "execution_count": 1,
   "metadata": {},
   "outputs": [],
   "source": [
    "# Which country has produced the most successful tennis players?"
   ]
  },
  {
   "cell_type": "code",
   "execution_count": 2,
   "metadata": {},
   "outputs": [
    {
     "name": "stderr",
     "output_type": "stream",
     "text": [
      "/var/folders/7q/sy_t_s_96rbcqv4g_3m79k0h0000gn/T/ipykernel_32527/3861665794.py:3: DtypeWarning: Columns (4,5,6,8,9) have mixed types. Specify dtype option on import or set low_memory=False.\n",
      "  away_team = pd.read_csv('/Users/parisazakeri/Desktop/pz/away_team.csv', encoding='ISO-8859-1')\n",
      "/var/folders/7q/sy_t_s_96rbcqv4g_3m79k0h0000gn/T/ipykernel_32527/3861665794.py:5: DtypeWarning: Columns (0,4,8,14) have mixed types. Specify dtype option on import or set low_memory=False.\n",
      "  home_team = pd.read_csv('/Users/parisazakeri/Desktop/pz/home_team.csv', encoding='ISO-8859-1')\n"
     ]
    }
   ],
   "source": [
    "import pandas as pd\n",
    "\n",
    "away_team = pd.read_csv('/Users/parisazakeri/Desktop/pz/away_team.csv', encoding='ISO-8859-1')\n",
    "event = pd.read_csv('/Users/parisazakeri/Desktop/pz/event.csv', encoding='ISO-8859-1')\n",
    "home_team = pd.read_csv('/Users/parisazakeri/Desktop/pz/home_team.csv', encoding='ISO-8859-1')"
   ]
  },
  {
   "cell_type": "code",
   "execution_count": 3,
   "metadata": {},
   "outputs": [],
   "source": [
    "filtered=event[['match_id','winner_code']].copy()\n",
    "home=home_team[['match_id','country']].copy()\n",
    "away=away_team[['match_id','country']].copy()\n",
    "home['is_home']=True\n",
    "away['is_home']=False\n",
    "players=pd.concat([home,away], ignore_index=True)\n",
    "merged=players.merge(filtered, on='match_id',how='inner')\n",
    "merged['is_winner']=(\n",
    "    (merged['is_home'] & (merged['winner_code']==1))\n",
    "    | (~merged['is_home'] & (merged['winner_code']==2))\n",
    ")"
   ]
  },
  {
   "cell_type": "code",
   "execution_count": 4,
   "metadata": {},
   "outputs": [],
   "source": [
    "winners=merged[merged['is_winner']]\n",
    "top_countries=winners['country'].value_counts().head(10)\n",
    "first_country=top_countries.index[0]\n"
   ]
  },
  {
   "cell_type": "code",
   "execution_count": 5,
   "metadata": {},
   "outputs": [
    {
     "name": "stdout",
     "output_type": "stream",
     "text": [
      "top countries by number of match wins\n",
      "country\n",
      "USA          12\n",
      "Australia    10\n",
      "France        7\n",
      "Italy         7\n",
      "Argentina     7\n",
      "Russia        6\n",
      "Latvia        4\n",
      "Austria       4\n",
      "Germany       3\n",
      "Portugal      2\n",
      "Name: count, dtype: int64\n",
      "country with the highest wins: USA\n"
     ]
    }
   ],
   "source": [
    "print('top countries by number of match wins')\n",
    "print(top_countries)\n",
    "\n",
    "print(f'country with the highest wins: {first_country}')"
   ]
  }
 ],
 "metadata": {
  "kernelspec": {
   "display_name": "Python 3",
   "language": "python",
   "name": "python3"
  },
  "language_info": {
   "codemirror_mode": {
    "name": "ipython",
    "version": 3
   },
   "file_extension": ".py",
   "mimetype": "text/x-python",
   "name": "python",
   "nbconvert_exporter": "python",
   "pygments_lexer": "ipython3",
   "version": "3.9.6"
  }
 },
 "nbformat": 4,
 "nbformat_minor": 2
}
