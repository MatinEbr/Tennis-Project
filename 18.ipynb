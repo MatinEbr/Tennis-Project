{
 "cells": [
  {
   "cell_type": "code",
   "execution_count": 2,
   "metadata": {},
   "outputs": [],
   "source": [
    "import os\n",
    "import pandas as pd\n",
    "from pathlib import Path\n",
    "from collections import defaultdict\n",
    "import numpy as np\n",
    "import matplotlib.pyplot as plt\n",
    "import datetime"
   ]
  },
  {
   "cell_type": "code",
   "execution_count": 3,
   "metadata": {},
   "outputs": [],
   "source": [
    "away_team_score = pd.read_csv('../Output/away_team_score.csv')\n",
    "away_team = pd.read_csv('../Output/away_team.csv')\n",
    "event = pd.read_csv('../Output/event.csv')\n",
    "home_team_score = pd.read_csv('../Output/home_team_score.csv')\n",
    "home_team = pd.read_csv('../Output/home_team.csv')\n",
    "raw_odds_parquet = pd.read_csv('../Output/raw_odds_parquet.csv')\n",
    "raw_point_by_point_parquet = pd.read_csv('../Output/raw_point_by_point_parquet.csv')\n",
    "raw_statistics_parquet = pd.read_csv('../Output/raw_statistics_parquet.csv')\n",
    "raw_tennis_power_parquet = pd.read_csv('../Output/raw_tennis_power_parquet.csv')\n",
    "raw_votes_parquet = pd.read_csv('../Output/raw_votes_parquet.csv')\n",
    "round = pd.read_csv('../Output/round.csv')\n",
    "season = pd.read_csv('../Output/season.csv')\n",
    "time = pd.read_csv('../Output/time.csv')\n",
    "tournament = pd.read_csv('../Output/tournament.csv')\n",
    "venue = pd.read_csv('../Output/venue.csv')"
   ]
  },
  {
   "cell_type": "markdown",
   "metadata": {},
   "source": [
    "which country has best players according to the ranking:"
   ]
  },
  {
   "cell_type": "code",
   "execution_count": 9,
   "metadata": {},
   "outputs": [
    {
     "data": {
      "text/html": [
       "<div>\n",
       "<style scoped>\n",
       "    .dataframe tbody tr th:only-of-type {\n",
       "        vertical-align: middle;\n",
       "    }\n",
       "\n",
       "    .dataframe tbody tr th {\n",
       "        vertical-align: top;\n",
       "    }\n",
       "\n",
       "    .dataframe thead th {\n",
       "        text-align: right;\n",
       "    }\n",
       "</style>\n",
       "<table border=\"1\" class=\"dataframe\">\n",
       "  <thead>\n",
       "    <tr style=\"text-align: right;\">\n",
       "      <th></th>\n",
       "      <th>country</th>\n",
       "      <th>rank</th>\n",
       "    </tr>\n",
       "  </thead>\n",
       "  <tbody>\n",
       "    <tr>\n",
       "      <th>68</th>\n",
       "      <td>Philippines</td>\n",
       "      <td>180.0</td>\n",
       "    </tr>\n",
       "  </tbody>\n",
       "</table>\n",
       "</div>"
      ],
      "text/plain": [
       "        country   rank\n",
       "68  Philippines  180.0"
      ]
     },
     "execution_count": 9,
     "metadata": {},
     "output_type": "execute_result"
    }
   ],
   "source": [
    "home_away = pd.merge(home_team,away_team,on = 'match_id')\n",
    "home_df = home_away[['name_x', 'current_rank_x','country_x']].rename(columns={'name_x':'player_name','current_rank_x':'rank','country_x':'country'})\n",
    "away_df = home_away[['name_y', 'current_rank_y','country_y']].rename(columns={'name_y':'player_name','current_rank_y':'rank','country_y':'country'})\n",
    "home_away = pd.concat([home_df,away_df]).drop_duplicates(subset='player_name').dropna()\n",
    "home_away = home_away.groupby('country')['rank'].mean().reset_index()\n",
    "home_away.loc[home_away['rank']==home_away['rank'].min()]"
   ]
  }
 ],
 "metadata": {
  "kernelspec": {
   "display_name": "Python 3",
   "language": "python",
   "name": "python3"
  },
  "language_info": {
   "codemirror_mode": {
    "name": "ipython",
    "version": 3
   },
   "file_extension": ".py",
   "mimetype": "text/x-python",
   "name": "python",
   "nbconvert_exporter": "python",
   "pygments_lexer": "ipython3",
   "version": "3.13.3"
  }
 },
 "nbformat": 4,
 "nbformat_minor": 2
}
