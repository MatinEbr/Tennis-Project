{
 "cells": [
  {
   "cell_type": "code",
   "execution_count": 1,
   "metadata": {},
   "outputs": [],
   "source": [
    "# What is the average number of games per set in men's matches compared to women's matches?"
   ]
  },
  {
   "cell_type": "code",
   "execution_count": 2,
   "metadata": {},
   "outputs": [
    {
     "name": "stderr",
     "output_type": "stream",
     "text": [
      "/var/folders/7q/sy_t_s_96rbcqv4g_3m79k0h0000gn/T/ipykernel_32765/1743587692.py:3: DtypeWarning: Columns (4,5,6,8,9) have mixed types. Specify dtype option on import or set low_memory=False.\n",
      "  away_team = pd.read_csv('/Users/parisazakeri/Desktop/pz/away_team.csv', encoding='ISO-8859-1')\n",
      "/var/folders/7q/sy_t_s_96rbcqv4g_3m79k0h0000gn/T/ipykernel_32765/1743587692.py:5: DtypeWarning: Columns (0,4,8,14) have mixed types. Specify dtype option on import or set low_memory=False.\n",
      "  home_team = pd.read_csv('/Users/parisazakeri/Desktop/pz/home_team.csv', encoding='ISO-8859-1')\n"
     ]
    }
   ],
   "source": [
    "import pandas as pd\n",
    "away_team_score = pd.read_csv('/Users/parisazakeri/Desktop/pz/away_team_score.csv' , encoding='ISO-8859-1')\n",
    "away_team = pd.read_csv('/Users/parisazakeri/Desktop/pz/away_team.csv', encoding='ISO-8859-1')\n",
    "home_team_score = pd.read_csv('/Users/parisazakeri/Desktop/pz/home_team_score.csv', encoding='ISO-8859-1')\n",
    "home_team = pd.read_csv('/Users/parisazakeri/Desktop/pz/home_team.csv', encoding='ISO-8859-1')"
   ]
  },
  {
   "cell_type": "code",
   "execution_count": 3,
   "metadata": {},
   "outputs": [],
   "source": [
    "scores = home_team_score.merge(away_team_score, on='match_id', suffixes=('_home', '_away'))\n",
    "scores = scores.merge(home_team[['match_id', 'gender']], on='match_id')\n",
    "periods = ['period_1', 'period_2', 'period_3', 'period_4', 'period_5']"
   ]
  },
  {
   "cell_type": "code",
   "execution_count": 4,
   "metadata": {},
   "outputs": [],
   "source": [
    "for p in periods:\n",
    "    scores[f'{p}_total'] = scores[f'{p}_home'] + scores[f'{p}_away']\n",
    "scores['sets_played'] = scores[[f'{p}_total' for p in periods]].notna().sum(axis=1)\n",
    "scores['total_games'] = scores[[f'{p}_total' for p in periods]].sum(axis=1)\n",
    "scores['games_per_set'] = scores['total_games'] / scores['sets_played']\n",
    "avg_games_by_gender = scores.groupby('gender')['games_per_set'].mean()"
   ]
  },
  {
   "cell_type": "code",
   "execution_count": 5,
   "metadata": {},
   "outputs": [
    {
     "name": "stdout",
     "output_type": "stream",
     "text": [
      "average number of games per set in mens matches compared to womens\n",
      "gender\n",
      "F    9.105769\n",
      "M    9.625706\n",
      "Name: games_per_set, dtype: float64\n"
     ]
    }
   ],
   "source": [
    "print('average number of games per set in mens matches compared to womens')\n",
    "print(avg_games_by_gender)"
   ]
  }
 ],
 "metadata": {
  "kernelspec": {
   "display_name": "Python 3",
   "language": "python",
   "name": "python3"
  },
  "language_info": {
   "codemirror_mode": {
    "name": "ipython",
    "version": 3
   },
   "file_extension": ".py",
   "mimetype": "text/x-python",
   "name": "python",
   "nbconvert_exporter": "python",
   "pygments_lexer": "ipython3",
   "version": "3.9.6"
  }
 },
 "nbformat": 4,
 "nbformat_minor": 2
}
