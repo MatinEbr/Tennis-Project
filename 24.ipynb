{
 "cells": [
  {
   "cell_type": "code",
   "execution_count": 1,
   "metadata": {},
   "outputs": [],
   "source": [
    "# Which ground type has the longest average match duration?"
   ]
  },
  {
   "cell_type": "code",
   "execution_count": 2,
   "metadata": {},
   "outputs": [],
   "source": [
    "import pandas as pd\n",
    "\n",
    "time = pd.read_csv('/Users/parisazakeri/Desktop/pz/time.csv', encoding='ISO-8859-1')\n",
    "tournament = pd.read_csv('/Users/parisazakeri/Desktop/pz/tournament.csv', encoding='ISO-8859-1')"
   ]
  },
  {
   "cell_type": "code",
   "execution_count": 3,
   "metadata": {},
   "outputs": [],
   "source": [
    "periods = ['period_1', 'period_2', 'period_3', 'period_4', 'period_5']\n",
    "time['total_duration'] = time[periods].sum(axis=1)\n",
    "merged = time.merge(tournament[['match_id', 'ground_type']], on='match_id')\n",
    "avg_duration_by_surface = merged.groupby('ground_type')['total_duration'].mean()"
   ]
  },
  {
   "cell_type": "code",
   "execution_count": 4,
   "metadata": {},
   "outputs": [
    {
     "name": "stdout",
     "output_type": "stream",
     "text": [
      " ground_type\n",
      "Carpet indoor        5568.420635\n",
      "Grass                3547.011236\n",
      "Green clay           6078.333333\n",
      "Hardcourt indoor     5388.238574\n",
      "Hardcourt outdoor    4125.916842\n",
      "Red clay             4855.310765\n",
      "Red clay indoor      5190.796610\n",
      "Synthetic outdoor    4334.815789\n",
      "Name: total_duration, dtype: float64\n",
      " The ground type with the longest average match duration is 'Green clay' with 6078.33 minutes.\n"
     ]
    }
   ],
   "source": [
    "print(f' {avg_duration_by_surface}')\n",
    "longest_surface = avg_duration_by_surface.idxmax()\n",
    "max_duration = avg_duration_by_surface.max()\n",
    "print(f\" The ground type with the longest average match duration is '{longest_surface}' with {max_duration:.2f} minutes.\")"
   ]
  }
 ],
 "metadata": {
  "kernelspec": {
   "display_name": "Python 3",
   "language": "python",
   "name": "python3"
  },
  "language_info": {
   "codemirror_mode": {
    "name": "ipython",
    "version": 3
   },
   "file_extension": ".py",
   "mimetype": "text/x-python",
   "name": "python",
   "nbconvert_exporter": "python",
   "pygments_lexer": "ipython3",
   "version": "3.9.6"
  }
 },
 "nbformat": 4,
 "nbformat_minor": 2
}
