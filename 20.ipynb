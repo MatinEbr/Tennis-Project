{
 "cells": [
  {
   "cell_type": "code",
   "execution_count": 1,
   "metadata": {},
   "outputs": [],
   "source": [
    "import os\n",
    "import pandas as pd\n",
    "from pathlib import Path\n",
    "from collections import defaultdict\n",
    "import numpy as np\n",
    "import matplotlib.pyplot as plt\n",
    "import datetime"
   ]
  },
  {
   "cell_type": "code",
   "execution_count": 2,
   "metadata": {},
   "outputs": [],
   "source": [
    "away_team_score = pd.read_csv('../Output/away_team_score.csv')\n",
    "away_team = pd.read_csv('../Output/away_team.csv')\n",
    "event = pd.read_csv('../Output/event.csv')\n",
    "home_team_score = pd.read_csv('../Output/home_team_score.csv')\n",
    "home_team = pd.read_csv('../Output/home_team.csv')\n",
    "raw_odds_parquet = pd.read_csv('../Output/raw_odds_parquet.csv')\n",
    "raw_point_by_point_parquet = pd.read_csv('../Output/raw_point_by_point_parquet.csv')\n",
    "raw_statistics_parquet = pd.read_csv('../Output/raw_statistics_parquet.csv')\n",
    "raw_tennis_power_parquet = pd.read_csv('../Output/raw_tennis_power_parquet.csv')\n",
    "raw_votes_parquet = pd.read_csv('../Output/raw_votes_parquet.csv')\n",
    "round = pd.read_csv('../Output/round.csv')\n",
    "season = pd.read_csv('../Output/season.csv')\n",
    "time = pd.read_csv('../Output/time.csv')\n",
    "tournament = pd.read_csv('../Output/tournament.csv')\n",
    "venue = pd.read_csv('../Output/venue.csv')"
   ]
  },
  {
   "cell_type": "markdown",
   "metadata": {},
   "source": [
    "20.which stadium  has the most hosting in dataset:"
   ]
  },
  {
   "cell_type": "code",
   "execution_count": 20,
   "metadata": {},
   "outputs": [
    {
     "data": {
      "text/plain": [
       "stadium  country\n",
       "Court 4  Egypt      356\n",
       "Name: stadium, dtype: int64"
      ]
     },
     "execution_count": 20,
     "metadata": {},
     "output_type": "execute_result"
    }
   ],
   "source": [
    "count_stadium = venue.groupby(['stadium','country'])['stadium'].count()\n",
    "count_stadium.sort_values().tail(1)"
   ]
  },
  {
   "cell_type": "markdown",
   "metadata": {},
   "source": [
    "court 4 Egypt has the most hosting in dataset."
   ]
  }
 ],
 "metadata": {
  "kernelspec": {
   "display_name": "Python 3",
   "language": "python",
   "name": "python3"
  },
  "language_info": {
   "codemirror_mode": {
    "name": "ipython",
    "version": 3
   },
   "file_extension": ".py",
   "mimetype": "text/x-python",
   "name": "python",
   "nbconvert_exporter": "python",
   "pygments_lexer": "ipython3",
   "version": "3.13.3"
  }
 },
 "nbformat": 4,
 "nbformat_minor": 2
}
