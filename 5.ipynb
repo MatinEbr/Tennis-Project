{
 "cells": [
  {
   "cell_type": "code",
   "execution_count": 9,
   "metadata": {},
   "outputs": [],
   "source": [
    "# How many sets are typically played in a tennis match?"
   ]
  },
  {
   "cell_type": "code",
   "execution_count": 10,
   "metadata": {},
   "outputs": [
    {
     "name": "stderr",
     "output_type": "stream",
     "text": [
      "/var/folders/7q/sy_t_s_96rbcqv4g_3m79k0h0000gn/T/ipykernel_32190/3943751587.py:3: DtypeWarning: Columns (4,5,6,8,9) have mixed types. Specify dtype option on import or set low_memory=False.\n",
      "  away_team = pd.read_csv('/Users/parisazakeri/Desktop/pz/away_team.csv', encoding='ISO-8859-1')\n"
     ]
    }
   ],
   "source": [
    "import pandas as pd\n",
    "away_team_score = pd.read_csv('/Users/parisazakeri/Desktop/pz/away_team_score.csv' , encoding='ISO-8859-1')\n",
    "away_team = pd.read_csv('/Users/parisazakeri/Desktop/pz/away_team.csv', encoding='ISO-8859-1')\n",
    "event = pd.read_csv('/Users/parisazakeri/Desktop/pz/event.csv', encoding='ISO-8859-1')\n",
    "home_team_score = pd.read_csv('/Users/parisazakeri/Desktop/pz/home_team_score.csv', encoding='ISO-8859-1')"
   ]
  },
  {
   "cell_type": "code",
   "execution_count": 11,
   "metadata": {},
   "outputs": [],
   "source": [
    "set_cols=['period_1', 'period_2','period_3','period_4','period_5']\n",
    "for col in set_cols:\n",
    "    if col not in home_team_score.columns:\n",
    "        raise ValueError ( f'column {col} in home_team_score does not exist')"
   ]
  },
  {
   "cell_type": "code",
   "execution_count": 12,
   "metadata": {},
   "outputs": [
    {
     "name": "stdout",
     "output_type": "stream",
     "text": [
      "average number of sets played per match: 2.18\n"
     ]
    }
   ],
   "source": [
    "home_team_score['sets_played'] =home_team_score[set_cols].notnull().sum(axis=1)\n",
    "avg_sets=home_team_score['sets_played'].mean()\n",
    "print(f'average number of sets played per match: {avg_sets:.2f}')"
   ]
  }
 ],
 "metadata": {
  "kernelspec": {
   "display_name": "Python 3",
   "language": "python",
   "name": "python3"
  },
  "language_info": {
   "codemirror_mode": {
    "name": "ipython",
    "version": 3
   },
   "file_extension": ".py",
   "mimetype": "text/x-python",
   "name": "python",
   "nbconvert_exporter": "python",
   "pygments_lexer": "ipython3",
   "version": "3.9.6"
  }
 },
 "nbformat": 4,
 "nbformat_minor": 2
}
